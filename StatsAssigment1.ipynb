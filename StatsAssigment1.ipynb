{
 "cells": [
  {
   "attachments": {},
   "cell_type": "markdown",
   "metadata": {},
   "source": [
    "## Q1. What is Statistics?"
   ]
  },
  {
   "attachments": {},
   "cell_type": "markdown",
   "metadata": {},
   "source": [
    "Statistics is a branch of mathematics that deals with the collection, analysis, interpretation, presentation, and organization of data. It involves the use of quantitative methods to describe, summarize, and draw conclusions from data. Statistics is used in a wide variety of fields, including science, engineering, medicine, business, social sciences, and many others.\n",
    "\n",
    "There are two main branches of statistics: descriptive statistics and inferential statistics. Descriptive statistics involves the use of methods to summarize and describe data, such as measures of central tendency (mean, median, mode), measures of variability (range, variance, standard deviation), and graphical displays (histograms, scatterplots, etc.). Inferential statistics involves the use of methods to make inferences or predictions about a population based on a sample of data. This includes hypothesis testing, estimation, and regression analysis.\n",
    "\n",
    "Statistics plays a vital role in decision-making in many fields, as it allows us to analyze and interpret data to make informed decisions."
   ]
  },
  {
   "attachments": {},
   "cell_type": "markdown",
   "metadata": {},
   "source": [
    "## Q2. Define the different types of statistics and give an example of when each type might be used."
   ]
  },
  {
   "attachments": {},
   "cell_type": "markdown",
   "metadata": {},
   "source": [
    "<p>There are two main types of statistics: descriptive statistics and inferential statistics.</p>\n",
    "<ol>\n",
    "<li>Descriptive Statistics: Descriptive statistics involves the use of methods to summarize and describe data. Some examples of descriptive statistics include:</li>\n",
    "</ol>\n",
    "<ul>\n",
    "<li>Measures of central tendency: Mean, median, mode.</li>\n",
    "<li>Measures of variability: Range, variance, standard deviation.</li>\n",
    "<li>Graphical displays: Histograms, scatterplots, boxplots.</li>\n",
    "</ul>\n",
    "<p>Descriptive statistics are useful when you want to summarize or describe a set of data. For example, if you want to describe the average income of a group of people, you could use the mean as a measure of central tendency. If you want to describe how spread out the incomes are, you could use the standard deviation as a measure of variability.</p>\n",
    "<ol start=\"2\">\n",
    "<li>Inferential Statistics: Inferential statistics involves the use of methods to make inferences or predictions about a population based on a sample of data. Some examples of inferential statistics include:</li>\n",
    "</ol>\n",
    "<ul>\n",
    "<li>Hypothesis testing: Used to determine if there is a significant difference between two groups or if a particular relationship exists between two variables.</li>\n",
    "<li>Estimation: Used to estimate population parameters from sample data.</li>\n",
    "<li>Regression analysis: Used to model the relationship between two or more variables.</li>\n",
    "</ul>\n",
    "<p>Inferential statistics are useful when you want to make predictions or inferences about a larger population based on a smaller sample of data. For example, if you want to determine if a new drug is effective, you could use hypothesis testing to compare the outcomes of a treatment group and a control group. If you want to estimate the proportion of a population that supports a particular policy, you could use estimation based on a sample of survey data.</p>"
   ]
  },
  {
   "attachments": {},
   "cell_type": "markdown",
   "metadata": {},
   "source": [
    "## Q4. Categorise the following datasets with respect to quantitative and qualitative data types:\n",
    "### (i) Grading in exam: A+, A, B+, B, C+, C, D, E\n",
    "### (ii) Colour of mangoes: yellow, green, orange, red\n",
    "### (iii) Height data of a class: [178.9, 179, 179.5, 176, 177.2, 178.3, 175.8,...]\n",
    "### (iv) Number of mangoes exported by a farm: [500, 600, 478, 672, ...]"
   ]
  },
  {
   "attachments": {},
   "cell_type": "markdown",
   "metadata": {},
   "source": [
    "<pre>(i) Grading in exam: A+, A, B+, B, C+, C, D, E - Qualitative data\n",
    "(ii) Colour of mangoes: yellow, green, orange, red - Qualitative data\n",
    "(iii) Height data of a class: [178.9, 179, 179.5, 176, 177.2, 178.3, 175.8,...] - Quantitative data\n",
    "(iv) Number of mangoes exported by a farm: [500, 600, 478, 672, ...] - Quantitative data</pre>"
   ]
  },
  {
   "attachments": {},
   "cell_type": "markdown",
   "metadata": {},
   "source": [
    "## Q5. Explain the concept of levels of measurement and give an example of a variable for each level."
   ]
  },
  {
   "attachments": {},
   "cell_type": "markdown",
   "metadata": {},
   "source": [
    "<div class=\"flex-1 overflow-hidden\">\n",
    "<div class=\"react-scroll-to-bottom--css-lybfh-79elbk h-full dark:bg-gray-800\">\n",
    "<div class=\"react-scroll-to-bottom--css-lybfh-1n7m0yu\">\n",
    "<div class=\"flex flex-col items-center text-sm dark:bg-gray-800\">\n",
    "<div class=\"w-full border-b border-black/10 dark:border-gray-900/50 text-gray-800 dark:text-gray-100 group bg-gray-50 dark:bg-[#444654]\">\n",
    "<div class=\"text-base gap-4 md:gap-6 m-auto md:max-w-2xl lg:max-w-2xl xl:max-w-3xl p-4 md:py-6 flex lg:px-0\">\n",
    "<div class=\"relative flex w-[calc(100%-50px)] flex-col gap-1 md:gap-3 lg:w-[calc(100%-115px)]\">\n",
    "<div class=\"flex flex-grow flex-col gap-3\">\n",
    "<div class=\"min-h-[20px] flex flex-col items-start gap-4 whitespace-pre-wrap\">\n",
    "<div class=\"markdown prose w-full break-words dark:prose-invert dark\">\n",
    "<p>Levels of measurement, also known as scales of measurement, refer to the ways in which variables can be classified based on the nature of the data they represent. There are four commonly recognized levels of measurement: nominal, ordinal, interval, and ratio.</p>\n",
    "<ol>\n",
    "<li>\n",
    "<p>Nominal level of measurement: This level of measurement is used to classify data into categories that do not have any order or rank. The categories are simply used to label or identify items. Examples of variables at the nominal level of measurement include gender (male, female), eye color (brown, blue, green), and race (Caucasian, African American, Asian).</p>\n",
    "</li>\n",
    "<li>\n",
    "<p>Ordinal level of measurement: This level of measurement allows variables to be ranked or ordered based on some criterion or characteristic. However, the differences between the categories are not necessarily equal or measurable. Examples of variables at the ordinal level of measurement include education level (high school diploma, bachelor's degree, master's degree), socioeconomic status (low, middle, high), and grade in a course (A, B, C, D, F).</p>\n",
    "</li>\n",
    "<li>\n",
    "<p>Interval level of measurement: This level of measurement is similar to the ordinal level, but the differences between the categories are equal and measurable. There is no true zero point in interval data. Examples of variables at the interval level of measurement include temperature (Fahrenheit or Celsius), IQ scores, and dates (measured in years or days from a certain point).</p>\n",
    "</li>\n",
    "<li>\n",
    "<p>Ratio level of measurement: This level of measurement is the most precise and has a true zero point. Ratio variables can be ordered, and the differences between categories are both equal and meaningful. Examples of variables at the ratio level of measurement include height, weight, time, and income.</p>\n",
    "</li>\n",
    "</ol>\n",
    "<p>Overall, understanding the level of measurement of a variable is important because it affects the type of statistical analysis that can be performed on the data. For instance, nominal and ordinal data may only be analyzed using non-parametric statistical tests, while interval and ratio data can be analyzed using both non-parametric and parametric statistical tests.</p>\n",
    "</div>\n",
    "</div>\n",
    "</div>\n",
    "<div class=\"flex justify-between\">\n",
    "<div class=\"text-gray-400 flex self-end lg:self-center justify-center mt-2 gap-3 md:gap-4 lg:gap-1 lg:absolute lg:top-0 lg:translate-x-full lg:right-0 lg:mt-0 lg:pl-2 visible\">&nbsp;</div>\n",
    "</div>\n",
    "</div>\n",
    "</div>\n",
    "</div>\n",
    "<div class=\"w-full h-32 md:h-48 flex-shrink-0\">&nbsp;</div>\n",
    "</div>\n",
    "<button class=\"cursor-pointer absolute right-6 bottom-[124px] md:bottom-[120px] z-10 rounded-full border border-gray-200 bg-gray-50 text-gray-600 dark:border-white/10 dark:bg-white/10 dark:text-gray-200\"></button></div>\n",
    "</div>\n",
    "</div>\n",
    "<div class=\"absolute bottom-0 left-0 w-full border-t md:border-t-0 dark:border-white/20 md:border-transparent md:dark:border-transparent md:bg-vert-light-gradient bg-white dark:bg-gray-800 md:!bg-transparent dark:md:bg-vert-dark-gradient\"><form class=\"stretch mx-2 flex flex-row gap-3 last:mb-2 md:last:mb-6 lg:mx-auto lg:max-w-3xl\">\n",
    "<div class=\"relative flex h-full flex-1 md:flex-col\">\n",
    "<div class=\"flex ml-1 mt-1.5 md:w-full md:m-auto md:mb-2 gap-0 md:gap-2 justify-center\">&nbsp;</div>\n",
    "</div>\n",
    "</form></div>"
   ]
  },
  {
   "attachments": {},
   "cell_type": "markdown",
   "metadata": {},
   "source": [
    "## Q6. Why is it important to understand the level of measurement when analyzing data? Provide an example to illustrate your answer."
   ]
  },
  {
   "attachments": {},
   "cell_type": "markdown",
   "metadata": {},
   "source": [
    "Understanding the level of measurement is essential when analyzing data because it determines the type of statistical analysis that can be performed and the appropriate measures of central tendency and dispersion that can be used. Different levels of measurement have different properties, which affect the way data can be analyzed and interpreted.\n",
    "\n",
    "For example, if we have data on the favorite color of a group of people, we need to know the level of measurement of the variable to perform appropriate analysis. If the variable is measured on a nominal scale, we can only count the number of people who choose each color and calculate the percentage of people for each color. We cannot compute a mean or variance because nominal data have no natural ordering or hierarchy. On the other hand, if the variable is measured on an ordinal scale, we can rank the colors from most to least popular and compute the median or mode. However, we cannot assume that the intervals between ranks are equal, and we cannot compute a meaningful mean or variance.\n",
    "\n",
    "In contrast, if the variable is measured on an interval or ratio scale, we can assume equal intervals between values and compute a meaningful mean and variance. For example, if we have data on the age of a group of people, we can calculate the mean, median, and standard deviation, which provide more detailed information about the distribution of the data.\n",
    "\n",
    "In summary, understanding the level of measurement is crucial because it determines the appropriate statistical analysis and measures of central tendency and dispersion that can be used. It helps researchers avoid making incorrect assumptions about the properties of the data and make more accurate conclusions based on the analysis.\n",
    "\n",
    "\n",
    "\n",
    "\n",
    "\n"
   ]
  },
  {
   "attachments": {},
   "cell_type": "markdown",
   "metadata": {},
   "source": [
    "## Q7. How nominal data type is different from ordinal data type."
   ]
  },
  {
   "attachments": {},
   "cell_type": "markdown",
   "metadata": {},
   "source": [
    "Nominal and ordinal are two of the four levels of measurement in statistics.\n",
    "\n",
    "Nominal data is a type of categorical data in which data values represent categories that do not have any inherent order or ranking. For example, gender (male, female) or color (red, green, blue) are nominal variables. Nominal data can only be classified and counted.\n",
    "\n",
    "Ordinal data, on the other hand, represents categories that can be ranked in order or have a natural order. However, the distance between categories is not equal. For example, the ranking of the finishing positions in a race (1st, 2nd, 3rd) is an ordinal variable. Other examples of ordinal variables include education level (high school, college, graduate degree) or ratings (poor, fair, good, excellent).\n",
    "\n",
    "The key difference between nominal and ordinal data is that nominal data does not have any inherent order or ranking, whereas ordinal data has a natural order or ranking but no specific numerical value associated with it."
   ]
  },
  {
   "attachments": {},
   "cell_type": "markdown",
   "metadata": {},
   "source": [
    "## Q8. Which type of plot can be used to display data in terms of range?"
   ]
  },
  {
   "attachments": {},
   "cell_type": "markdown",
   "metadata": {},
   "source": [
    "A box plot, also known as a box-and-whisker plot, is commonly used to display data in terms of range. It shows the distribution of the data by displaying the median, quartiles, and outliers of the dataset. The box represents the interquartile range (IQR), which is the range of the middle 50% of the data, while the whiskers extend to the minimum and maximum values within a certain range. Box plots are useful for comparing distributions between different groups or variables."
   ]
  },
  {
   "attachments": {},
   "cell_type": "markdown",
   "metadata": {},
   "source": [
    "## Q9. Describe the difference between descriptive and inferential statistics. Give an example of each type of statistics and explain how they are used."
   ]
  },
  {
   "attachments": {},
   "cell_type": "markdown",
   "metadata": {},
   "source": [
    "Descriptive statistics and inferential statistics are two broad categories of statistical analysis methods used in data analysis.\n",
    "\n",
    "Descriptive statistics is the branch of statistics that deals with the summary and description of the characteristics of a set of data. It includes measures like mean, median, mode, standard deviation, range, and percentiles, which are used to describe and summarize data in a way that is easily understandable. For example, if we want to understand the average income of a particular community, we can calculate the mean income of that community using descriptive statistics.\n",
    "\n",
    "In contrast, inferential statistics is the branch of statistics that deals with making generalizations and predictions about a population based on a sample. It involves using sample data to make inferences or draw conclusions about a larger population. For example, if we want to know whether the average income of a particular community is significantly different from the average income of the entire population, we can use inferential statistics to conduct hypothesis testing and make conclusions about the population based on the sample data.\n",
    "\n",
    "To illustrate the difference between descriptive and inferential statistics, consider the following example. Suppose we want to study the average height of students in a school. Descriptive statistics can be used to calculate the mean, median, and range of the heights of the students in the school. On the other hand, inferential statistics can be used to make generalizations about the height of all students in the school, based on a sample of students. For instance, we can randomly select a sample of 100 students, calculate their average height, and use inferential statistics to make predictions about the average height of all students in the school.\n",
    "\n",
    "\n",
    "\n",
    "\n",
    "\n"
   ]
  },
  {
   "attachments": {},
   "cell_type": "markdown",
   "metadata": {},
   "source": [
    "## Q10. What are some common measures of central tendency and variability used in statistics? Explain how each measure can be used to describe a dataset."
   ]
  },
  {
   "attachments": {},
   "cell_type": "markdown",
   "metadata": {},
   "source": [
    "<div class=\"flex-1 overflow-hidden\">\n",
    "<div class=\"react-scroll-to-bottom--css-lybfh-79elbk h-full dark:bg-gray-800\">\n",
    "<div class=\"react-scroll-to-bottom--css-lybfh-1n7m0yu\">\n",
    "<div class=\"flex flex-col items-center text-sm dark:bg-gray-800\">\n",
    "<div class=\"w-full border-b border-black/10 dark:border-gray-900/50 text-gray-800 dark:text-gray-100 group bg-gray-50 dark:bg-[#444654]\">\n",
    "<div class=\"text-base gap-4 md:gap-6 m-auto md:max-w-2xl lg:max-w-2xl xl:max-w-3xl p-4 md:py-6 flex lg:px-0\">\n",
    "<div class=\"relative flex w-[calc(100%-50px)] flex-col gap-1 md:gap-3 lg:w-[calc(100%-115px)]\">\n",
    "<div class=\"flex flex-grow flex-col gap-3\">\n",
    "<div class=\"min-h-[20px] flex flex-col items-start gap-4 whitespace-pre-wrap\">\n",
    "<div class=\"markdown prose w-full break-words dark:prose-invert dark\">\n",
    "<div class=\"flex-1 overflow-hidden\">\n",
    "<div class=\"react-scroll-to-bottom--css-lybfh-79elbk h-full dark:bg-gray-800\">\n",
    "<div class=\"react-scroll-to-bottom--css-lybfh-1n7m0yu\">\n",
    "<div class=\"flex flex-col items-center text-sm dark:bg-gray-800\">\n",
    "<div class=\"w-full border-b border-black/10 dark:border-gray-900/50 text-gray-800 dark:text-gray-100 group bg-gray-50 dark:bg-[#444654]\">\n",
    "<div class=\"text-base gap-4 md:gap-6 m-auto md:max-w-2xl lg:max-w-2xl xl:max-w-3xl p-4 md:py-6 flex lg:px-0\">\n",
    "<div class=\"relative flex w-[calc(100%-50px)] flex-col gap-1 md:gap-3 lg:w-[calc(100%-115px)]\">\n",
    "<div class=\"flex flex-grow flex-col gap-3\">\n",
    "<div class=\"min-h-[20px] flex flex-col items-start gap-4 whitespace-pre-wrap\">\n",
    "<div class=\"markdown prose w-full break-words dark:prose-invert dark\">\n",
    "<p>Measures of central tendency and variability are commonly used in statistics to describe a dataset.</p>\n",
    "<p>Measures of central tendency:</p>\n",
    "<ol>\n",
    "<li>\n",
    "<p>Mean: The mean is the sum of all the values in a dataset divided by the number of values in the dataset. It is often used to describe the average value of a dataset. For example, the mean salary of employees in a company can be used to describe the average salary of all employees.</p>\n",
    "</li>\n",
    "<li>\n",
    "<p>Median: The median is the middle value of a dataset when it is ordered from smallest to largest. It is often used to describe the central value of a dataset when there are outliers or when the distribution is not symmetrical. For example, the median income of a neighborhood can be used to describe the central income of the residents.</p>\n",
    "</li>\n",
    "<li>\n",
    "<p>Mode: The mode is the value that appears most frequently in a dataset. It is often used to describe the most common value of a dataset. For example, the mode of transportation used by commuters in a city can be used to describe the most common method of transportation.</p>\n",
    "</li>\n",
    "</ol>\n",
    "<p>Measures of variability:</p>\n",
    "<ol>\n",
    "<li>\n",
    "<p>Range: The range is the difference between the largest and smallest values in a dataset. It is often used to describe the spread of the data. For example, the range of ages of students in a classroom can be used to describe how spread out the ages are.</p>\n",
    "</li>\n",
    "<li>\n",
    "<p>Variance: The variance is the average of the squared differences from the mean. It is often used to describe how spread out the data is from the mean. For example, the variance of test scores in a class can be used to describe how spread out the scores are from the average score.</p>\n",
    "</li>\n",
    "<li>\n",
    "<p>Standard deviation: The standard deviation is the square root of the variance. It is often used to describe how spread out the data is from the mean in the same units as the data. For example, the standard deviation of the heights of students in a class can be used to describe how spread out the heights are from the average height, in units of centimeters.</p>\n",
    "</li>\n",
    "</ol>\n",
    "<p>These measures of central tendency and variability can be used together to provide a more complete description of a dataset. For example, the mean and standard deviation can be used to describe the average value and the spread of the data, while the median and range can be used to describe the central value and the range of the data.</p>\n",
    "</div>\n",
    "</div>\n",
    "</div>\n",
    "</div>\n",
    "</div>\n",
    "</div>\n",
    "</div>\n",
    "</div>\n",
    "</div>\n",
    "</div>\n",
    "</div>\n",
    "</div>\n",
    "</div>\n",
    "</div>\n",
    "</div>\n",
    "</div>\n",
    "</div>\n",
    "</div>\n",
    "</div>\n",
    "</div>"
   ]
  }
 ],
 "metadata": {
  "language_info": {
   "name": "python"
  },
  "orig_nbformat": 4
 },
 "nbformat": 4,
 "nbformat_minor": 2
}
